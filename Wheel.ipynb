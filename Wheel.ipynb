{
 "metadata": {
  "name": "",
  "signature": "sha256:8656e6bc016e9d0fc17a4c02138a0e9fbbf5c6e32aef55bd75d1ecfae4778d81"
 },
 "nbformat": 3,
 "nbformat_minor": 0,
 "worksheets": [
  {
   "cells": [
    {
     "cell_type": "heading",
     "level": 2,
     "metadata": {},
     "source": [
      "wheel - when do my two chances beat your one, and what you can do about it"
     ]
    },
    {
     "cell_type": "markdown",
     "metadata": {},
     "source": [
      "Let's analyze the following two player game.\n",
      "\n",
      "Player 1 generates a U(0,1) r.v. $x_1$, and can either stop and pass play to Player 2 or\n",
      "generate another U(0,1) r.v. x2. Let $s_1$ be the score of player 1, where $s_1$ = $x_1$ + $x_2$ if $s_1$ <=1. \n",
      "If $x_1$ + $x_2$ > 1 player 1 then $s_1$ = 0.\n",
      "\n",
      "If player 1 $s_1$ > 0 or player 1 does not elect to generate the 2nd r.v. then player 2 begins.  \n",
      "Player 2 generates a U(0,1) r.v. $y_1$, if $y_1$ > s1, then player 2 chooses $y_1$ as his score $s_2$ and because\n",
      "$s_2$ > $s_1$ then player 2 wins. If $y_1$ < s1 then player 2 generates a second U(0,1), $y_2$, winning if, for \n",
      "$s_2$ = $y_1$ + $y_2$, $s_2$ > $s_1$ and $s_2$ < 1.\n",
      "\n",
      "As an **informal summary**, the greatest score <= 1 wins."
     ]
    },
    {
     "cell_type": "markdown",
     "metadata": {},
     "source": [
      "Notice that player 2, then, has no choice of strategy, generating the second r.v. if necessary (when $y_1$ < $s_1$) and \n",
      "otherwise winning with $s_2$ = $y_1$."
     ]
    },
    {
     "cell_type": "markdown",
     "metadata": {},
     "source": [
      "Only player 1 has a potential strategy, basing his action upon the\n",
      "likelihood of player 2 winning.  \n",
      "Player 1 elect to NOT generate a second r.v., $x_2$ resulting in $s_1$ = $x_1$  or\n",
      "elect to generate $x_2$ resulting in $s_1$ = $x_1$ + $x_2$, if $x_1 + x_2$ &le; 1 and 0 otherwise."
     ]
    },
    {
     "cell_type": "markdown",
     "metadata": {},
     "source": [
      "**The question - given the value of $x_1$, should player 1 generate $x_2$ or not?**"
     ]
    },
    {
     "cell_type": "markdown",
     "metadata": {},
     "source": [
      "Let's determine the probabability of player 2 winning given player 1 has $s_1$."
     ]
    },
    {
     "cell_type": "markdown",
     "metadata": {},
     "source": [
      "For player 2 to win, break the problem into two parts:  \n",
      "1)  If $y_1$ > $s_1$, player 2 wins. This occurs with probabiity 1-$s_1$. Remember $y_2$ ~ U(0,1) and $s_1$ $\\\\epsilon$ (0,1).    \n",
      "2)  if $y_1$ < $s_1$, then player 2 must generate another r.v., $y_2$, which must be such that  \n",
      "    $y_1$ + y2 > s1 **and** $y_1$ + $y_2$ &le; 1.   \n",
      "Combining these two conditions in 2),  1 &ge; $y_1$ + y2 > $s_1$. Realize that this inequality represents a condition on $y_2$.  \n",
      "We simplify by subtracting $y_1$ from each expression, yielding 1 - $y_1$ &ge; $y_2$ > $s_1$ - $y_1$  \n",
      "Therefore $y_2$ must be in ($s_1$-$y_1$, 1-$y_1$) for player 2 to win. The probability of $y_2$, a U(0,1) r.v., to be in \n",
      "that interval = ((1-$y_1$) - ($s_1$ - $y_1$)) = 1-$s_1$  \n",
      "\n",
      "Note that 2) happens with probability $s_1$.  "
     ]
    },
    {
     "cell_type": "raw",
     "metadata": {},
     "source": [
      "Make a routine to return the probability of player 2 winning."
     ]
    },
    {
     "cell_type": "code",
     "collapsed": false,
     "input": [
      "def p2win(s1):\n",
      "    return (1.- s1*s1)"
     ],
     "language": "python",
     "metadata": {},
     "outputs": [],
     "prompt_number": 1
    },
    {
     "cell_type": "raw",
     "metadata": {},
     "source": [
      "Example"
     ]
    },
    {
     "cell_type": "code",
     "collapsed": false,
     "input": [
      "print p2win(.1), p2win(.5), p2win(.9)"
     ],
     "language": "python",
     "metadata": {},
     "outputs": [
      {
       "output_type": "stream",
       "stream": "stdout",
       "text": [
        "0.99 0.75 0.19\n"
       ]
      }
     ],
     "prompt_number": 2
    },
    {
     "cell_type": "markdown",
     "metadata": {},
     "source": [
      "Intuitively, then, the greater the value of $s_1$, the less likely player 2 wins. Player 1 must attempt to get $s_1$, then, to minimize the probability  \n",
      "of player 2 winning.\n",
      "After generating $x_1$, the only choice left to player 1 is whether or not to generate $x_2$.\n",
      "Looking back at the examples:\n",
      "clearly player 1 should choose to generate $x_2$ in the case $s_1$=.1 because $x_2$ will cause $s_1$ to be > 1 in a very small number of cases and $y_1$ will very likely exceed $s_1$,\n",
      "and, under similar reasoning, player 1 should choose NOT to generate $x_2$ if $x_1$=.9. "
     ]
    },
    {
     "cell_type": "markdown",
     "metadata": {},
     "source": [
      "We look for the minimum value of $x_1$ such that player 1 should elect to NOT generate $x_2$, because generating $x_2$ would cause $x_1$ + $x_2$ to exceed 1.  \n",
      "This minimum value should also be the value $x_1$, that maximizes the probability $x_1$ > $y_1$ (or $y_1$ + $y_2$). \n",
      "\n",
      "Player 1's options under choosing to generate $x_2$ or not, amount merely to asking which of these two options has a better chance of winning.  \n",
      "From this point forward, we will refer to not generating $x_2$, as setting $x_2$=0."
     ]
    },
    {
     "cell_type": "markdown",
     "metadata": {},
     "source": [
      "What is the probability of player 1 winning if x$_2$=0?  \n",
      "Observe the probability of player 1 winning = 1 - probability of player 2 winning = 1- (1-$s_1^2$) = $s_1^2$.  \n",
      "The answer to our question; the Probability(player 1 winning with $x_2$=0) = $s_1$ = **$x_1^2$**\n"
     ]
    },
    {
     "cell_type": "markdown",
     "metadata": {},
     "source": [
      "What is the probability of player 1 winning if he does generate $x_2$?  \n",
      "Player 1 has $s_1$ = $x_1$ + $x_2$ if $x_1$ + $x_2$  &le; 1 and 0 otherwise.  \n",
      "The probability of $x_1$ + $x_2$ &le; 1 given $x_1$ is just 1-$x_1$, \n",
      "We need the expected value of $s_1$ given $x_1 + x_2 &le; 1 $  \n",
      "Using the definition of expected value  \n",
      "$E(s_1) = x_1 + \\int_{x_1}^{1} x_2 dx = x_1 + \\frac{(1 - x_1^2 )}2\\ $  \n",
      "\n",
      "  \n",
      "After generating $x_2$,  \n",
      "The expected value of $s_1$ becomes $(1 - x_1 ) * ( x_1 + \\frac{1 - x_1^2}2\\ \\\\ + x_1 * 0$ =  \n",
      "$(1 - x_1 ) ( x_1+ \\frac{1 - x_1^2}2\\ ) \\\\ $"
     ]
    },
    {
     "cell_type": "markdown",
     "metadata": {},
     "source": [
      "Player 1 then, chooses $max ( x_1^2, (1 - x_1)( x_1 +   \\frac{1 -x_1^2}2\\ )^2 )$ picking the corresponding action of not generating or generating $x_2$"
     ]
    },
    {
     "cell_type": "markdown",
     "metadata": {},
     "source": [
      "The code below shows, for a range of $x_1$, the choice to generate $x_2$ or not."
     ]
    },
    {
     "cell_type": "code",
     "collapsed": false,
     "input": [
      "def chooseMax(x1):\n",
      "    return [ x1**2, (1-x1)*( x1 + (1. - x1 ** 2)/2.)**2]\n",
      "#   return [ x1**2, (1-x1 )*((1. + x1)/2.)**2]\n",
      "\n",
      "for p1 in xrange(50,75,1):\n",
      "    p=p1/100.\n",
      "    theMax=chooseMax(p)\n",
      "    if theMax[0] > theMax[1]:\n",
      "        s='NOT generate'\n",
      "        pwin=theMax[0]\n",
      "    else:\n",
      "        s='generate'\n",
      "        pwin=theMax[1]\n",
      "    \n",
      "    print '{:5.3f}: choose {:s} to win with probability {:5.3f}'.format(p,s,pwin)"
     ],
     "language": "python",
     "metadata": {},
     "outputs": [
      {
       "output_type": "stream",
       "stream": "stdout",
       "text": [
        "0.500: choose generate to win with probability 0.383\n",
        "0.510: choose generate to win with probability 0.379\n",
        "0.520: choose generate to win with probability 0.376\n",
        "0.530: choose generate to win with probability 0.372\n",
        "0.540: choose generate to win with probability 0.368\n",
        "0.550: choose generate to win with probability 0.363\n",
        "0.560: choose generate to win with probability 0.359\n",
        "0.570: choose generate to win with probability 0.354\n",
        "0.580: choose generate to win with probability 0.349\n",
        "0.590: choose NOT generate to win with probability 0.348\n",
        "0.600: choose NOT generate to win with probability 0.360\n",
        "0.610: choose NOT generate to win with probability 0.372\n",
        "0.620: choose NOT generate to win with probability 0.384\n",
        "0.630: choose NOT generate to win with probability 0.397\n",
        "0.640: choose NOT generate to win with probability 0.410\n",
        "0.650: choose NOT generate to win with probability 0.423\n",
        "0.660: choose NOT generate to win with probability 0.436\n",
        "0.670: choose NOT generate to win with probability 0.449\n",
        "0.680: choose NOT generate to win with probability 0.462\n",
        "0.690: choose NOT generate to win with probability 0.476\n",
        "0.700: choose NOT generate to win with probability 0.490\n",
        "0.710: choose NOT generate to win with probability 0.504\n",
        "0.720: choose NOT generate to win with probability 0.518\n",
        "0.730: choose NOT generate to win with probability 0.533\n",
        "0.740: choose NOT generate to win with probability 0.548\n"
       ]
      }
     ],
     "prompt_number": 1
    },
    {
     "cell_type": "markdown",
     "metadata": {},
     "source": [
      "Let's simulate the game as Player 1 and use the choiceMax function above to determine  \n",
      "whether or not to generate $x_2$."
     ]
    },
    {
     "cell_type": "raw",
     "metadata": {},
     "source": [
      "First, simulate a restricted version of the game"
     ]
    },
    {
     "cell_type": "code",
     "collapsed": false,
     "input": [
      "import math\n",
      "import random\n",
      "\n",
      "def restricted_games(x1, reps=10000,thresh=None):\n",
      "    winner=[0,0]\n",
      "    gen2=[0,0]\n",
      "    #random.seed()\n",
      "    i=0\n",
      "    while i < reps:\n",
      "        test=chooseMax(x1)\n",
      "        #decide whether to use our strategy or a simple threshold\n",
      "        # to generate x2\n",
      "        if thresh is None:\n",
      "            if test[0] > test[1]:\n",
      "                s1=x1\n",
      "                gen2[0]+= 1\n",
      "            else:\n",
      "                s1 = x1 + random.uniform(0,1)\n",
      "                gen2[1] += 1\n",
      "        else:\n",
      "            if x1 > thresh:\n",
      "                s1=x1\n",
      "                gen2[0]+= 1\n",
      "            else:\n",
      "                s1 = x1 + random.uniform(0,1)\n",
      "                gen2[1] += 1\n",
      "        if s1 > 1.0:\n",
      "            s1=0.\n",
      "        # decide winner\n",
      "        if s1 == 0.0:\n",
      "            #print ' 2 wins >>'\n",
      "            winner[1] += 1\n",
      "        else:\n",
      "            s2=random.uniform(0,1)\n",
      "            if s2 > s1:\n",
      "                #print ' 2 wins >1'\n",
      "                winner[1] += 1\n",
      "            else:\n",
      "                s2 = s2 + random.uniform(0,1)\n",
      "                if (s2 > s1 and s2 <=1.0):\n",
      "                    #print ' 2 wins >2'\n",
      "                    winner[1] += 1\n",
      "                else:\n",
      "                    #print ' 1 wins'\n",
      "                    winner[0] += 1\n",
      "        i=i+1\n",
      "\n",
      "    return winner[0]/(reps+0.0), winner, gen2"
     ],
     "language": "python",
     "metadata": {},
     "outputs": [],
     "prompt_number": 2
    },
    {
     "cell_type": "code",
     "collapsed": false,
     "input": [
      "\n",
      "ngames=10000\n",
      "for i in xrange(47,72,1):\n",
      "    t=i/100.\n",
      "    gg=restricted_games(t,ngames)\n",
      "    print t, gg"
     ],
     "language": "python",
     "metadata": {},
     "outputs": [
      {
       "output_type": "stream",
       "stream": "stdout",
       "text": [
        "0.47 (0.2957, [2957, 7043], [0, 10000])\n",
        "0.48 (0.2971, [2971, 7029], [0, 10000])\n",
        "0.49 (0.2953, [2953, 7047], [0, 10000])\n",
        "0.5"
       ]
      },
      {
       "output_type": "stream",
       "stream": "stdout",
       "text": [
        " (0.2931, [2931, 7069], [0, 10000])\n",
        "0.51 (0.2843, [2843, 7157], [0, 10000])\n",
        "0.52 (0.2899, [2899, 7101], [0, 10000])\n",
        "0.53"
       ]
      },
      {
       "output_type": "stream",
       "stream": "stdout",
       "text": [
        " (0.2859, [2859, 7141], [0, 10000])\n",
        "0.54 (0.2798, [2798, 7202], [0, 10000])\n",
        "0.55 (0.2748, [2748, 7252], [0, 10000])\n",
        "0.56"
       ]
      },
      {
       "output_type": "stream",
       "stream": "stdout",
       "text": [
        " (0.2787, [2787, 7213], [0, 10000])\n",
        "0.57 (0.2708, [2708, 7292], [0, 10000])\n",
        "0.58 (0.2701, [2701, 7299], [0, 10000])\n",
        "0.59"
       ]
      },
      {
       "output_type": "stream",
       "stream": "stdout",
       "text": [
        " (0.3509, [3509, 6491], [10000, 0])\n",
        "0.6 (0.3654, [3654, 6346], [10000, 0])\n",
        "0.61 (0.3695, [3695, 6305], [10000, 0])\n",
        "0.62"
       ]
      },
      {
       "output_type": "stream",
       "stream": "stdout",
       "text": [
        " (0.389, [3890, 6110], [10000, 0])\n",
        "0.63 (0.4003, [4003, 5997], [10000, 0])\n",
        "0.64 (0.4148, [4148, 5852], [10000, 0])\n",
        "0.65"
       ]
      },
      {
       "output_type": "stream",
       "stream": "stdout",
       "text": [
        " (0.4251, [4251, 5749], [10000, 0])\n",
        "0.66 (0.438, [4380, 5620], [10000, 0])\n",
        "0.67 (0.456, [4560, 5440], [10000, 0])\n",
        "0.68"
       ]
      },
      {
       "output_type": "stream",
       "stream": "stdout",
       "text": [
        " (0.4628, [4628, 5372], [10000, 0])\n",
        "0.69 (0.4867, [4867, 5133], [10000, 0])\n",
        "0.7 (0.49, [4900, 5100], [10000, 0])\n",
        "0.71"
       ]
      },
      {
       "output_type": "stream",
       "stream": "stdout",
       "text": [
        " (0.4939, [4939, 5061], [10000, 0])\n"
       ]
      }
     ],
     "prompt_number": 45
    },
    {
     "cell_type": "code",
     "collapsed": false,
     "input": [
      "import math\n",
      "import random\n",
      "\n",
      "def games(reps=10000,thresh=None):\n",
      "    winner=[0,0]\n",
      "    #random.seed()\n",
      "    i=0\n",
      "    \n",
      "    while i < reps:\n",
      "        x1=random.uniform(0,1)\n",
      "        test=chooseMax(x1)\n",
      "        #decide whether to use our strategy or a simple threshold\n",
      "        # to generate x2\n",
      "        if thresh is None:\n",
      "            if test[0] > test[1]:\n",
      "                s1=x1\n",
      "            else:\n",
      "                s1 = x1 + random.uniform(0,1)\n",
      "        else:\n",
      "            if x1 > thresh:\n",
      "                s1=x1\n",
      "            else:\n",
      "                s1 = x1 + random.uniform(0,1)\n",
      "                \n",
      "        # check if x violated constraint\n",
      "        if s1 > 1.0:\n",
      "            #print ' 2 wins >>'\n",
      "            winner[1] += 1\n",
      "        else:\n",
      "            s2=random.uniform(0,1)\n",
      "            if s2 > s1:\n",
      "                #print ' 2 wins >1'\n",
      "                winner[1] += 1\n",
      "            else:\n",
      "                s2 = s2 + random.uniform(0,1)\n",
      "                if (s2 > s1 and s2 <=1.0):\n",
      "                    #print ' 2 wins >2'\n",
      "                    winner[1] += 1\n",
      "                else:\n",
      "                    #print ' 1 wins'\n",
      "                    winner[0] += 1\n",
      "        i=i+1\n",
      "\n",
      "    return winner[0]/(reps+0.0), winner"
     ],
     "language": "python",
     "metadata": {},
     "outputs": [],
     "prompt_number": 3
    },
    {
     "cell_type": "code",
     "collapsed": false,
     "input": [
      "ggmax=0.\n",
      "tmax=0.\n",
      "for i in xrange(48,68,1):\n",
      "    t=i/100.\n",
      "    gg=games(500000,thresh=t)\n",
      "    if gg[0] > ggmax:\n",
      "        ggmax =gg[0]\n",
      "        tmax=t\n",
      "    print t, gg[0], tmax,ggmax\n",
      "    \n",
      "print games(500000)"
     ],
     "language": "python",
     "metadata": {},
     "outputs": [
      {
       "output_type": "stream",
       "stream": "stdout",
       "text": [
        "0.48 0.453206 0.48 0.453206\n",
        "0.49"
       ]
      },
      {
       "output_type": "stream",
       "stream": "stdout",
       "text": [
        " 0.452578 0.48 0.453206\n",
        "0.5"
       ]
      },
      {
       "output_type": "stream",
       "stream": "stdout",
       "text": [
        " 0.453094 0.48 0.453206\n",
        "0.51"
       ]
      },
      {
       "output_type": "stream",
       "stream": "stdout",
       "text": [
        " 0.453354 0.51 0.453354\n",
        "0.52"
       ]
      },
      {
       "output_type": "stream",
       "stream": "stdout",
       "text": [
        " 0.45409 0.52 0.45409\n",
        "0.53"
       ]
      },
      {
       "output_type": "stream",
       "stream": "stdout",
       "text": [
        " 0.454184 0.53 0.454184\n",
        "0.54"
       ]
      },
      {
       "output_type": "stream",
       "stream": "stdout",
       "text": [
        " 0.452562 0.53 0.454184\n",
        "0.55"
       ]
      },
      {
       "output_type": "stream",
       "stream": "stdout",
       "text": [
        " 0.45347 0.53 0.454184\n",
        "0.56"
       ]
      },
      {
       "output_type": "stream",
       "stream": "stdout",
       "text": [
        " 0.453534 0.53 0.454184\n",
        "0.57"
       ]
      },
      {
       "output_type": "stream",
       "stream": "stdout",
       "text": [
        " 0.45272 0.53 0.454184\n",
        "0.58"
       ]
      },
      {
       "output_type": "stream",
       "stream": "stdout",
       "text": [
        " 0.451692 0.53 0.454184\n",
        "0.59"
       ]
      },
      {
       "output_type": "stream",
       "stream": "stdout",
       "text": [
        " 0.452106 0.53 0.454184\n",
        "0.6"
       ]
      },
      {
       "output_type": "stream",
       "stream": "stdout",
       "text": [
        " 0.45133 0.53 0.454184\n",
        "0.61"
       ]
      },
      {
       "output_type": "stream",
       "stream": "stdout",
       "text": [
        " 0.4496 0.53 0.454184\n",
        "0.62"
       ]
      },
      {
       "output_type": "stream",
       "stream": "stdout",
       "text": [
        " 0.447842 0.53 0.454184\n",
        "0.63"
       ]
      },
      {
       "output_type": "stream",
       "stream": "stdout",
       "text": [
        " 0.44742 0.53 0.454184\n",
        "0.64"
       ]
      },
      {
       "output_type": "stream",
       "stream": "stdout",
       "text": [
        " 0.445188 0.53 0.454184\n",
        "0.65"
       ]
      },
      {
       "output_type": "stream",
       "stream": "stdout",
       "text": [
        " 0.44297 0.53 0.454184\n",
        "0.66"
       ]
      },
      {
       "output_type": "stream",
       "stream": "stdout",
       "text": [
        " 0.441616 0.53 0.454184\n",
        "0.67"
       ]
      },
      {
       "output_type": "stream",
       "stream": "stdout",
       "text": [
        " 0.440742 0.53 0.454184\n",
        "(0.452332, [226166, 273834])"
       ]
      },
      {
       "output_type": "stream",
       "stream": "stdout",
       "text": [
        "\n"
       ]
      }
     ],
     "prompt_number": 4
    },
    {
     "cell_type": "code",
     "collapsed": false,
     "input": [],
     "language": "python",
     "metadata": {},
     "outputs": []
    }
   ],
   "metadata": {}
  }
 ]
}